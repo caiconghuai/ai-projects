{
 "cells": [
  {
   "cell_type": "markdown",
   "metadata": {
    "collapsed": true
   },
   "source": [
    "# 3.1 Tensorflow计算模型——计算图"
   ]
  },
  {
   "cell_type": "markdown",
   "metadata": {},
   "source": [
    "## 3.1.1 计算图的概念"
   ]
  },
  {
   "cell_type": "markdown",
   "metadata": {},
   "source": [
    "## 3.1.2 计算图的使用\n",
    "TensorFlow程序一般可以分为两个阶段：\n",
    "1. 定义计算图汇总所有的计算；\n",
    "2. 执行计算。"
   ]
  },
  {
   "cell_type": "code",
   "execution_count": 7,
   "metadata": {},
   "outputs": [],
   "source": [
    "import tensorflow as tf"
   ]
  },
  {
   "cell_type": "code",
   "execution_count": 9,
   "metadata": {},
   "outputs": [],
   "source": [
    "a = tf.constant([1.0, 2.0], name='a')\n",
    "b = tf.constant([2.0, 3.0], name='b')\n",
    "res = a + b"
   ]
  },
  {
   "cell_type": "code",
   "execution_count": 10,
   "metadata": {},
   "outputs": [
    {
     "name": "stdout",
     "output_type": "stream",
     "text": [
      "True\n"
     ]
    }
   ],
   "source": [
    "print(a.graph is tf.get_default_graph())"
   ]
  },
  {
   "cell_type": "code",
   "execution_count": 24,
   "metadata": {},
   "outputs": [
    {
     "name": "stdout",
     "output_type": "stream",
     "text": [
      "[0.]\n",
      "[1.]\n"
     ]
    }
   ],
   "source": [
    "g1 = tf.Graph()\n",
    "with g1.as_default():\n",
    "    v = tf.get_variable(\"v\", initializer=tf.zeros_initializer(shape=[1]))\n",
    "\n",
    "g2 = tf.Graph()\n",
    "with g2.as_default():\n",
    "    v = tf.get_variable('v', shape=[1], initializer=tf.ones_initializer())\n",
    "    \n",
    "with tf.Session(graph=g1) as sess:\n",
    "    tf.global_variables_initializer().run()\n",
    "    with tf.variable_scope(\"\", reuse=True):\n",
    "        print(sess.run(tf.get_variable(\"v\")))\n",
    "        \n",
    "with tf.Session(graph=g2) as sess:\n",
    "    tf.global_variables_initializer().run()\n",
    "    with tf.variable_scope(\"\", reuse=True):\n",
    "        print(sess.run(tf.get_variable(\"v\")))"
   ]
  },
  {
   "cell_type": "markdown",
   "metadata": {},
   "source": [
    "上面的代码产生了两个计算图，每个计算图中定义了一个名字为“v”的变量。可以看到当运行不同计算图时，\n",
    "变量v的值也是不一样的。TensorFlow中的计算图可以用来隔离张量和计算，它还提供了管理张量和计算的机制。"
   ]
  },
  {
   "cell_type": "code",
   "execution_count": 27,
   "metadata": {},
   "outputs": [],
   "source": [
    "# 计算图可以通过tf.Graph.device函数来指定运行计算的设备\n",
    "g = tf.Graph()\n",
    "with g.device('/gpu:0'):\n",
    "    res = a + b"
   ]
  },
  {
   "cell_type": "markdown",
   "metadata": {},
   "source": [
    "# 3.2 TensorFlow数据模型——张量"
   ]
  },
  {
   "cell_type": "markdown",
   "metadata": {},
   "source": [
    "## 3.2.1 张量的概念"
   ]
  },
  {
   "cell_type": "code",
   "execution_count": 28,
   "metadata": {},
   "outputs": [
    {
     "name": "stdout",
     "output_type": "stream",
     "text": [
      "Tensor(\"add_4:0\", shape=(2,), dtype=float32)\n"
     ]
    }
   ],
   "source": [
    "a = tf.constant([1.0, 2.0], name='a')\n",
    "b = tf.constant([2.0, 3.0], name='b')\n",
    "result = tf.add(a, b, name='add')\n",
    "print(result)"
   ]
  },
  {
   "cell_type": "markdown",
   "metadata": {},
   "source": [
    "一个张量中主要保存了三个属性：名字、维度和类型"
   ]
  },
  {
   "cell_type": "markdown",
   "metadata": {},
   "source": [
    "## 3.2.2 张量的使用"
   ]
  },
  {
   "cell_type": "markdown",
   "metadata": {},
   "source": [
    "1. 第一类用途是对中间计算结果的引用。\n",
    "2. 张量可以用来获得计算的结果。"
   ]
  },
  {
   "cell_type": "markdown",
   "metadata": {},
   "source": [
    "# 3.4 TensorFlow实现神经网络"
   ]
  },
  {
   "cell_type": "code",
   "execution_count": 35,
   "metadata": {},
   "outputs": [
    {
     "name": "stdout",
     "output_type": "stream",
     "text": [
      "[[-0.2649628]]\n",
      "[[-0.2649628 ]\n",
      " [-0.05774263]\n",
      " [-0.20077479]]\n"
     ]
    }
   ],
   "source": [
    "w1 = tf.Variable(tf.random_normal([2, 3], stddev=1))\n",
    "w2 = tf.Variable(tf.random_normal([3, 1], stddev=1))\n",
    "\n",
    "x = tf.placeholder(tf.float32, shape=(None,2), name='input')\n",
    "a = tf.matmul(x, w1)\n",
    "y = tf.matmul(a, w2)\n",
    "\n",
    "sess = tf.Session()\n",
    "init_op = tf.global_variables_initializer()\n",
    "sess.run(init_op)\n",
    "\n",
    "print(sess.run(y, feed_dict={x:[[0.7, 0.9]]}))\n",
    "print(sess.run(y, feed_dict={x:[[0.7, 0.9],[0.1, 0.4],[0.5, 0.8]]}))"
   ]
  },
  {
   "cell_type": "code",
   "execution_count": 37,
   "metadata": {},
   "outputs": [],
   "source": [
    "# 完整神经网络样例程序\n",
    "# 下面给出一个完整的程序来训练神经网络解决二分类问题\n",
    "from numpy.random import RandomState"
   ]
  },
  {
   "cell_type": "code",
   "execution_count": 38,
   "metadata": {},
   "outputs": [
    {
     "name": "stdout",
     "output_type": "stream",
     "text": [
      "训练之前参数值：\n",
      "w1: Tensor(\"Variable_10/read:0\", shape=(2, 3), dtype=float32)\n",
      "w2: Tensor(\"Variable_11/read:0\", shape=(3, 1), dtype=float32)\n",
      "After 0 trainnig step(s), croos entropy on all data is 0.0674925\n",
      "After 1000 trainnig step(s), croos entropy on all data is 0.0163385\n",
      "After 2000 trainnig step(s), croos entropy on all data is 0.00907547\n",
      "After 3000 trainnig step(s), croos entropy on all data is 0.00714436\n",
      "After 4000 trainnig step(s), croos entropy on all data is 0.00578471\n",
      "训练之后的参数值：\n",
      "w1 [[-1.9618274  2.582354   1.6820378]\n",
      " [-3.4681716  1.0698233  2.11789  ]]\n",
      "w2 [[-1.8247149]\n",
      " [ 2.6854665]\n",
      " [ 1.418195 ]]\n"
     ]
    }
   ],
   "source": [
    "batch_size = 8\n",
    "\n",
    "w1 = tf.Variable(tf.random_normal([2, 3], stddev=1, seed=1))\n",
    "w2 = tf.Variable(tf.random_normal([3, 1], stddev=1, seed=1))\n",
    "\n",
    "x = tf.placeholder(shape=(None, 2), dtype=tf.float32, name='x-input')\n",
    "y_ = tf.placeholder(shape=(None, 1), dtype=tf.float32, name='y-input')\n",
    "\n",
    "a = tf.matmul(x, w1)\n",
    "y = tf.matmul(a, w2)\n",
    "\n",
    "cross_entropy = -tf.reduce_mean(y_ * tf.log(tf.clip_by_value(y, 1e-10, 1.0)))\n",
    "train_step = tf.train.AdamOptimizer(0.001).minimize(cross_entropy)\n",
    "\n",
    "# 通过随机数生成模拟数据集\n",
    "rdm = RandomState(1)\n",
    "dataset_size = 128\n",
    "X = rdm.rand(dataset_size, 2)\n",
    "Y = [[int(x1+x2 < 1)] for (x1, x2) in X]\n",
    "\n",
    "with tf.Session() as sess:\n",
    "    sess.run(tf.global_variables_initializer())\n",
    "    print('训练之前参数值：')\n",
    "    print('w1:',w1)\n",
    "    print('w2:',w2)\n",
    "    STEPS = 5000\n",
    "    for i in range(STEPS):\n",
    "        start = (i * batch_size) % dataset_size\n",
    "        end = min(start+batch_size, dataset_size)\n",
    "        sess.run(train_step, feed_dict={x: X[start:end], y_:Y[start:end]})\n",
    "        if i % 1000 == 0:\n",
    "            total_cross_entropy = sess.run(cross_entropy, feed_dict={x:X, y_:Y})\n",
    "            print('After %d trainnig step(s), croos entropy on all data is %g' % (i, total_cross_entropy))\n",
    "    print('训练之后的参数值：')\n",
    "    print('w1', sess.run(w1))\n",
    "    print('w2', sess.run(w2))"
   ]
  }
 ],
 "metadata": {
  "kernelspec": {
   "display_name": "Python 3",
   "language": "python",
   "name": "python3"
  },
  "language_info": {
   "codemirror_mode": {
    "name": "ipython",
    "version": 3
   },
   "file_extension": ".py",
   "mimetype": "text/x-python",
   "name": "python",
   "nbconvert_exporter": "python",
   "pygments_lexer": "ipython3",
   "version": "3.6.3"
  }
 },
 "nbformat": 4,
 "nbformat_minor": 1
}
